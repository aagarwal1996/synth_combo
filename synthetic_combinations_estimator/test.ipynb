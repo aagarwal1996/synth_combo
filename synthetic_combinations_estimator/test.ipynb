{
 "cells": [
  {
   "cell_type": "code",
   "execution_count": 1,
   "id": "5b67cad0-fb76-4b59-a798-588fb23dfd42",
   "metadata": {
    "tags": []
   },
   "outputs": [],
   "source": [
    "%load_ext autoreload\n",
    "%autoreload 2\n",
    "\n",
    "from copy import deepcopy\n",
    "from typing import List\n",
    "import numpy as np\n",
    "import sklearn\n",
    "from celer import Lasso\n",
    "import random\n",
    "from sklearn import datasets\n",
    "from sklearn.base import BaseEstimator, RegressorMixin, ClassifierMixin\n",
    "from sklearn.metrics import r2_score\n",
    "from sklearn.model_selection import cross_val_score\n",
    "from sklearn.model_selection import train_test_split\n",
    "from sklearn.tree import DecisionTreeRegressor, DecisionTreeClassifier,export_text\n",
    "from sklearn.ensemble import RandomForestRegressor\n",
    "from sklearn.linear_model import LassoCV\n",
    "from scipy.linalg import hadamard\n",
    "from synthetic_combinations import *\n",
    "from scipy.sparse import random\n",
    "from scipy import stats\n",
    "from numpy.linalg import matrix_rank\n",
    "from sklearn.preprocessing import normalize\n",
    "from sklearn import preprocessing\n",
    "from sklearn.linear_model import LinearRegression"
   ]
  },
  {
   "cell_type": "markdown",
   "id": "92608ba0-7b78-489d-9ca5-1835ce28eb56",
   "metadata": {
    "tags": []
   },
   "source": [
    "# Generate Test Data  "
   ]
  },
  {
   "cell_type": "markdown",
   "id": "a10fe4b2-eddf-4df4-9895-597ef17f106a",
   "metadata": {},
   "source": [
    "## Define Parameters"
   ]
  },
  {
   "cell_type": "code",
   "execution_count": 5,
   "id": "da5f7506-e9ef-437d-bcd4-32e0ef65fad3",
   "metadata": {
    "tags": []
   },
   "outputs": [],
   "source": [
    "N = 200\n",
    "p = 15\n",
    "r  = 3\n",
    "s = p**2\n"
   ]
  },
  {
   "cell_type": "markdown",
   "id": "b08885e4-97f4-4dc2-a4bd-5ed98b469ffb",
   "metadata": {},
   "source": [
    "## Generate Alpha Matrix and Potential Outcome Matrix"
   ]
  },
  {
   "cell_type": "code",
   "execution_count": 6,
   "id": "7b407bb9-f450-4665-a7c5-14002fad34bc",
   "metadata": {
    "tags": []
   },
   "outputs": [],
   "source": [
    "# Cell for generating alpha matrix\n",
    "rvs = stats.norm().rvs\n",
    "rank_users = []\n",
    "for i in range(r):\n",
    "    alpha_u = random(2**p,1,density=(s)/(2**p),data_rvs = rvs).toarray()\n",
    "    rank_users.append(alpha_u[:,0])\n",
    "rank_users = np.array(rank_users)\n",
    "B = np.random.dirichlet([1]*r, 200 - r)\n",
    "remaining_users = np.matmul(B,rank_users)\n",
    "all_users = np.concatenate((rank_users,remaining_users))\n",
    "all_users = normalize(all_users, axis=1, norm='l2')"
   ]
  },
  {
   "cell_type": "code",
   "execution_count": 7,
   "id": "d4ac2134-f11a-4002-8245-f2ba82b2a8af",
   "metadata": {
    "tags": []
   },
   "outputs": [],
   "source": [
    "# Cell for generating potential outcome matrix \n",
    "fourier_characteristic_matrix = hadamard(2**p)\n",
    "potential_outcome_matrix = np.matmul(all_users,fourier_characteristic_matrix)\n",
    "#min_max_scaler = preprocessing.MinMaxScaler(feature_range = (-1,1))\n",
    "#potential_outcome_matrix = min_max_scaler.fit_transform(potential_outcome_matrix)"
   ]
  },
  {
   "cell_type": "markdown",
   "id": "8aa4a10d-00ee-4af8-9403-7172237168b7",
   "metadata": {},
   "source": [
    "## Generate Observation Pattern and Observation Matrix from Uniform Sampling"
   ]
  },
  {
   "cell_type": "code",
   "execution_count": 8,
   "id": "0cdf03d7-484e-4dab-801b-1cff386cf56d",
   "metadata": {
    "tags": []
   },
   "outputs": [],
   "source": [
    "#Generate indices for donor units \n",
    "from random import choices\n",
    "num_donor_units = 2*r\n",
    "num_donor_unit_observations = 3000\n",
    "num_non_donor_unit_observations = r**4\n",
    "donor_unit_observations = choices(range(2**p), k = num_donor_unit_observations)\n",
    "non_donor_unit_observations = choices(range(2**p), k = num_non_donor_unit_observations)"
   ]
  },
  {
   "cell_type": "code",
   "execution_count": 9,
   "id": "5a361180-c5bc-4800-85fb-edbb74ddd2ca",
   "metadata": {
    "tags": []
   },
   "outputs": [],
   "source": [
    "observation_matrix = np.empty((N,2**p,))\n",
    "observation_matrix[:] = np.nan"
   ]
  },
  {
   "cell_type": "code",
   "execution_count": 10,
   "id": "14991050-1fdd-4884-ba7b-3a499639e064",
   "metadata": {
    "tags": []
   },
   "outputs": [
    {
     "data": {
      "text/plain": [
       "(200, 32768)"
      ]
     },
     "execution_count": 10,
     "metadata": {},
     "output_type": "execute_result"
    }
   ],
   "source": [
    "observation_matrix[:num_donor_units,donor_unit_observations] = potential_outcome_matrix[:num_donor_units,donor_unit_observations]\n",
    "observation_matrix[num_donor_units:,non_donor_unit_observations] =  potential_outcome_matrix[num_donor_units:,non_donor_unit_observations]\n",
    "#donor_unit_observation_matrix = \n",
    "observation_matrix.shape        "
   ]
  },
  {
   "cell_type": "markdown",
   "id": "a2f33c9a-4e50-438a-8c0c-76de73208d13",
   "metadata": {},
   "source": [
    "# Synthetic Combinations "
   ]
  },
  {
   "cell_type": "code",
   "execution_count": 11,
   "id": "5f7bb89a-9ab2-45f7-ba7f-950414617583",
   "metadata": {
    "tags": []
   },
   "outputs": [],
   "source": [
    "sc = synth_combo()"
   ]
  },
  {
   "cell_type": "markdown",
   "id": "f3b8a07c-16d3-435d-8353-8a058b776629",
   "metadata": {},
   "source": [
    "## Do Horizontal Regression "
   ]
  },
  {
   "cell_type": "code",
   "execution_count": 12,
   "id": "3d3bf062-e151-4e2d-bd4f-272b0214092b",
   "metadata": {
    "tags": []
   },
   "outputs": [
    {
     "name": "stderr",
     "output_type": "stream",
     "text": [
      "100%|██████████████████████████████████████████████████████████████████████████| 200/200 [21:55<00:00,  6.58s/it]\n"
     ]
    }
   ],
   "source": [
    "donor_unit_indices = [i for i in range(N)]\n",
    "horizontal_regression_observation_matrix = sc.horizontal_fit(observation_matrix,donor_unit_indices)"
   ]
  },
  {
   "cell_type": "code",
   "execution_count": 15,
   "id": "44b132e0-17c1-4e54-850e-210f977c6abf",
   "metadata": {
    "tags": []
   },
   "outputs": [
    {
     "data": {
      "text/plain": [
       "0.0009759161636400511"
      ]
     },
     "execution_count": 15,
     "metadata": {},
     "output_type": "execute_result"
    }
   ],
   "source": [
    "np.linalg.norm(horizontal_regression_observation_matrix[:6,:] - potential_outcome_matrix[:6,:])**2/(N*potential_outcome_matrix.shape[1])"
   ]
  },
  {
   "cell_type": "code",
   "execution_count": 27,
   "id": "da765d6c-cbf1-4ad3-aff4-2658606e0776",
   "metadata": {
    "tags": []
   },
   "outputs": [
    {
     "data": {
      "text/plain": [
       "0.04089749099345411"
      ]
     },
     "execution_count": 27,
     "metadata": {},
     "output_type": "execute_result"
    }
   ],
   "source": [
    "donor_unit_imputed_matrix = horizontal_regression_observation_matrix[donor_unit_indices,:]\n",
    "np.linalg.norm(donor_unit_imputed_matrix - potential_outcome_matrix[donor_unit_indices,:])**2/(len(donor_unit_indices)*donor_unit_imputed_matrix.shape[1])"
   ]
  },
  {
   "cell_type": "markdown",
   "id": "7833dc61-e53b-4d49-8622-064e8e3830f1",
   "metadata": {},
   "source": [
    "## Vertical Regression "
   ]
  },
  {
   "cell_type": "code",
   "execution_count": 28,
   "id": "24ca867c-75bf-4a57-943f-aec970753f3b",
   "metadata": {
    "tags": []
   },
   "outputs": [
    {
     "name": "stderr",
     "output_type": "stream",
     "text": [
      "100%|█████████████████████████████████████████████████████████████████████████| 194/194 [00:00<00:00, 350.31it/s]\n"
     ]
    }
   ],
   "source": [
    "vertical_regression_observation_matrix = sc.vertical_fit(horizontal_regression_observation_matrix,donor_unit_indices,num_components = 3)"
   ]
  },
  {
   "cell_type": "code",
   "execution_count": 29,
   "id": "01683568-298c-4fe6-984a-870b5a8ebb29",
   "metadata": {
    "tags": []
   },
   "outputs": [
    {
     "data": {
      "text/plain": [
       "0.0094417009015897"
      ]
     },
     "execution_count": 29,
     "metadata": {},
     "output_type": "execute_result"
    }
   ],
   "source": [
    "np.linalg.norm(vertical_regression_observation_matrix - potential_outcome_matrix)**2/(N*donor_unit_imputed_matrix.shape[1])"
   ]
  },
  {
   "cell_type": "markdown",
   "id": "54ba6e09-b8de-44a7-987e-cbda9d7f20e2",
   "metadata": {},
   "source": [
    "# Only Horizontal Regression "
   ]
  },
  {
   "cell_type": "code",
   "execution_count": null,
   "id": "cd0b6a36-1f95-4f2d-a1d0-6dc92f18b19d",
   "metadata": {
    "tags": []
   },
   "outputs": [
    {
     "name": "stderr",
     "output_type": "stream",
     "text": [
      "  0%|                                                                                    | 0/194 [00:00<?, ?it/s]"
     ]
    }
   ],
   "source": [
    "unit_indices = [i for i in range(N)][num_donor_units:]\n",
    "lasso_regression_observation_matrix = sc.horizontal_fit(horizontal_regression_observation_matrix,unit_indices)"
   ]
  },
  {
   "cell_type": "code",
   "execution_count": null,
   "id": "bc8655ba-e345-446b-994e-716d38c87aea",
   "metadata": {},
   "outputs": [],
   "source": []
  }
 ],
 "metadata": {
  "kernelspec": {
   "display_name": "Python 3 (ipykernel)",
   "language": "python",
   "name": "python3"
  },
  "language_info": {
   "codemirror_mode": {
    "name": "ipython",
    "version": 3
   },
   "file_extension": ".py",
   "mimetype": "text/x-python",
   "name": "python",
   "nbconvert_exporter": "python",
   "pygments_lexer": "ipython3",
   "version": "3.11.0"
  }
 },
 "nbformat": 4,
 "nbformat_minor": 5
}
