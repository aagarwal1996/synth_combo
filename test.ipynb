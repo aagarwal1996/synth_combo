{
 "cells": [
  {
   "cell_type": "code",
   "execution_count": 51,
   "id": "5b67cad0-fb76-4b59-a798-588fb23dfd42",
   "metadata": {
    "tags": []
   },
   "outputs": [
    {
     "name": "stdout",
     "output_type": "stream",
     "text": [
      "The autoreload extension is already loaded. To reload it, use:\n",
      "  %reload_ext autoreload\n"
     ]
    }
   ],
   "source": [
    "%load_ext autoreload\n",
    "%autoreload 2\n",
    "\n",
    "from copy import deepcopy\n",
    "from typing import List\n",
    "import numpy as np\n",
    "import sklearn\n",
    "from celer import Lasso\n",
    "import random\n",
    "from sklearn.metrics import mean_squared_error\n",
    "from sklearn import datasets\n",
    "from sklearn.base import BaseEstimator, RegressorMixin, ClassifierMixin\n",
    "from sklearn.metrics import r2_score\n",
    "from sklearn.ensemble import RandomForestRegressor\n",
    "from sklearn.linear_model import LassoCV\n",
    "from scipy.linalg import hadamard\n",
    "from synthetic_combinations import *\n",
    "from sklearn import preprocessing\n",
    "from fancyimpute import *\n",
    "from horizontal_matrix_completion import *\n",
    "from scipy.sparse import random"
   ]
  },
  {
   "cell_type": "markdown",
   "id": "92608ba0-7b78-489d-9ca5-1835ce28eb56",
   "metadata": {
    "tags": []
   },
   "source": [
    "# Generate Test Data  "
   ]
  },
  {
   "cell_type": "markdown",
   "id": "a10fe4b2-eddf-4df4-9895-597ef17f106a",
   "metadata": {},
   "source": [
    "## Define Parameters"
   ]
  },
  {
   "cell_type": "code",
   "execution_count": 47,
   "id": "da5f7506-e9ef-437d-bcd4-32e0ef65fad3",
   "metadata": {
    "tags": []
   },
   "outputs": [],
   "source": [
    "np.random.seed(42)\n",
    "N = 50\n",
    "p = 10\n",
    "r  = 3\n",
    "s = int(p**(1.5))\n"
   ]
  },
  {
   "cell_type": "markdown",
   "id": "b08885e4-97f4-4dc2-a4bd-5ed98b469ffb",
   "metadata": {},
   "source": [
    "## Generate Alpha Matrix and Potential Outcome Matrix"
   ]
  },
  {
   "cell_type": "code",
   "execution_count": 48,
   "id": "7b407bb9-f450-4665-a7c5-14002fad34bc",
   "metadata": {
    "tags": []
   },
   "outputs": [
    {
     "ename": "TypeError",
     "evalue": "'module' object is not callable",
     "output_type": "error",
     "traceback": [
      "\u001b[0;31m---------------------------------------------------------------------------\u001b[0m",
      "\u001b[0;31mTypeError\u001b[0m                                 Traceback (most recent call last)",
      "Cell \u001b[0;32mIn[48], line 5\u001b[0m\n\u001b[1;32m      3\u001b[0m rank_users \u001b[38;5;241m=\u001b[39m []\n\u001b[1;32m      4\u001b[0m \u001b[38;5;28;01mfor\u001b[39;00m i \u001b[38;5;129;01min\u001b[39;00m \u001b[38;5;28mrange\u001b[39m(r):\n\u001b[0;32m----> 5\u001b[0m     alpha_u \u001b[38;5;241m=\u001b[39m \u001b[43mrandom\u001b[49m\u001b[43m(\u001b[49m\u001b[38;5;241;43m2\u001b[39;49m\u001b[38;5;241;43m*\u001b[39;49m\u001b[38;5;241;43m*\u001b[39;49m\u001b[43mp\u001b[49m\u001b[43m,\u001b[49m\u001b[38;5;241;43m1\u001b[39;49m\u001b[43m,\u001b[49m\u001b[43mdensity\u001b[49m\u001b[38;5;241;43m=\u001b[39;49m\u001b[43m(\u001b[49m\u001b[43ms\u001b[49m\u001b[43m)\u001b[49m\u001b[38;5;241;43m/\u001b[39;49m\u001b[43m(\u001b[49m\u001b[38;5;241;43m2\u001b[39;49m\u001b[38;5;241;43m*\u001b[39;49m\u001b[38;5;241;43m*\u001b[39;49m\u001b[43mp\u001b[49m\u001b[43m)\u001b[49m\u001b[43m,\u001b[49m\u001b[43mdata_rvs\u001b[49m\u001b[43m \u001b[49m\u001b[38;5;241;43m=\u001b[39;49m\u001b[43m \u001b[49m\u001b[43mrvs\u001b[49m\u001b[43m)\u001b[49m\u001b[38;5;241m.\u001b[39mtoarray()\n\u001b[1;32m      6\u001b[0m     rank_users\u001b[38;5;241m.\u001b[39mappend(alpha_u[:,\u001b[38;5;241m0\u001b[39m])\n\u001b[1;32m      7\u001b[0m rank_users \u001b[38;5;241m=\u001b[39m np\u001b[38;5;241m.\u001b[39marray(rank_users)\n",
      "\u001b[0;31mTypeError\u001b[0m: 'module' object is not callable"
     ]
    }
   ],
   "source": [
    "# Cell for generating alpha matrix\n",
    "rvs = stats.norm().rvs\n",
    "rank_users = []\n",
    "for i in range(r):\n",
    "    alpha_u = random(2**p,1,density=(s)/(2**p),data_rvs = rvs).toarray()\n",
    "    rank_users.append(alpha_u[:,0])\n",
    "rank_users = np.array(rank_users)\n",
    "B = np.random.dirichlet([1]*r, N - r)\n",
    "remaining_users = np.matmul(B,rank_users)\n",
    "all_users = np.concatenate((rank_users,remaining_users))\n",
    "all_users = normalize(all_users, axis=1, norm='l2')"
   ]
  },
  {
   "cell_type": "code",
   "execution_count": 49,
   "id": "d4ac2134-f11a-4002-8245-f2ba82b2a8af",
   "metadata": {
    "tags": []
   },
   "outputs": [],
   "source": [
    "# Cell for generating potential outcome matrix \n",
    "fourier_characteristic_matrix = hadamard(2**p)\n",
    "potential_outcome_matrix = np.matmul(all_users,fourier_characteristic_matrix)\n",
    "#min_max_scaler = preprocessing.MinMaxScaler(feature_range = (-1,1))\n",
    "#potential_outcome_matrix = min_max_scaler.fit_transform(potential_outcome_matrix)"
   ]
  },
  {
   "cell_type": "markdown",
   "id": "8aa4a10d-00ee-4af8-9403-7172237168b7",
   "metadata": {},
   "source": [
    "## Generate Observation Pattern and Observation Matrix from Uniform Sampling"
   ]
  },
  {
   "cell_type": "code",
   "execution_count": 5,
   "id": "0cdf03d7-484e-4dab-801b-1cff386cf56d",
   "metadata": {
    "tags": []
   },
   "outputs": [],
   "source": [
    "#Generate indices for donor units \n",
    "from random import choices\n",
    "num_donor_units = 2*r\n",
    "num_donor_unit_observations = s*p\n",
    "num_non_donor_unit_observations = r**4\n",
    "donor_unit_observations = choices(range(2**p), k = num_donor_unit_observations)\n",
    "non_donor_unit_observations = choices(range(2**p), k = num_non_donor_unit_observations)"
   ]
  },
  {
   "cell_type": "code",
   "execution_count": 6,
   "id": "5a361180-c5bc-4800-85fb-edbb74ddd2ca",
   "metadata": {
    "tags": []
   },
   "outputs": [],
   "source": [
    "observation_matrix = np.empty((N,2**p,))\n",
    "observation_matrix[:] = np.nan"
   ]
  },
  {
   "cell_type": "code",
   "execution_count": 7,
   "id": "14991050-1fdd-4884-ba7b-3a499639e064",
   "metadata": {
    "tags": []
   },
   "outputs": [
    {
     "data": {
      "text/plain": [
       "(50, 1024)"
      ]
     },
     "execution_count": 7,
     "metadata": {},
     "output_type": "execute_result"
    }
   ],
   "source": [
    "observation_matrix[:num_donor_units,donor_unit_observations] = potential_outcome_matrix[:num_donor_units,donor_unit_observations]\n",
    "observation_matrix[num_donor_units:,non_donor_unit_observations] =  potential_outcome_matrix[num_donor_units:,non_donor_unit_observations]\n",
    "#donor_unit_observation_matrix = \n",
    "observation_matrix.shape        "
   ]
  },
  {
   "cell_type": "markdown",
   "id": "3964a2ff-7de9-42a2-b86c-307a96a106c3",
   "metadata": {},
   "source": [
    "# Horizontal Regression"
   ]
  },
  {
   "cell_type": "code",
   "execution_count": 45,
   "id": "69d96ed0-f112-44e4-bdbc-175b5f32e67c",
   "metadata": {
    "tags": []
   },
   "outputs": [
    {
     "name": "stderr",
     "output_type": "stream",
     "text": [
      "100%|████████████████████████████████████████████████████████████████████████████| 50/50 [00:02<00:00, 17.09it/s]\n"
     ]
    }
   ],
   "source": [
    "horizontal_matrix = horizontal_matrix_completion()\n",
    "lasso_regression_observation_matrix = horizontal_matrix.fit(deepcopy(observation_matrix))"
   ]
  },
  {
   "cell_type": "code",
   "execution_count": 46,
   "id": "e2ed11e8-c67a-4955-8766-7fc73fb197dd",
   "metadata": {
    "tags": []
   },
   "outputs": [
    {
     "data": {
      "text/plain": [
       "0.7733262353776496"
      ]
     },
     "execution_count": 46,
     "metadata": {},
     "output_type": "execute_result"
    }
   ],
   "source": [
    "mean_squared_error(potential_outcome_matrix[:,:],lasso_regression_observation_matrix[:,:])"
   ]
  },
  {
   "cell_type": "markdown",
   "id": "cc1f2948-8b05-434f-970d-e5740b88a511",
   "metadata": {},
   "source": [
    "# Matrix Completion "
   ]
  },
  {
   "cell_type": "code",
   "execution_count": 50,
   "id": "7e3543bf-f465-4c62-9cf8-9946e428e6d5",
   "metadata": {
    "tags": []
   },
   "outputs": [
    {
     "name": "stdout",
     "output_type": "stream",
     "text": [
      "[MatrixFactorization] Iter 10: observed MAE=0.439623 rank=3\n",
      "[MatrixFactorization] Iter 20: observed MAE=0.346861 rank=3\n",
      "[MatrixFactorization] Iter 30: observed MAE=0.249797 rank=3\n",
      "[MatrixFactorization] Iter 40: observed MAE=0.141156 rank=3\n",
      "[MatrixFactorization] Iter 50: observed MAE=0.105902 rank=3\n"
     ]
    }
   ],
   "source": [
    "#X_filled_nnm = NuclearNormMinimization().fit_transform(observation_matrix)\n",
    "#X_incomplete_normalized = BiScaler().fit_transform(observation_matrix)\n",
    "#X_matrix_completion = SoftImpute().fit_transform(observation_matrix)\n",
    "#X_filled_knn = KNN(k=3).fit_transform(observation_matrix)\n",
    "X_matrix_completion = MatrixFactorization(rank = r).fit_transform(deepcopy(observation_matrix))"
   ]
  },
  {
   "cell_type": "code",
   "execution_count": 73,
   "id": "7614b7ee-05ec-46f0-98a6-11c5ac97d31a",
   "metadata": {
    "tags": []
   },
   "outputs": [
    {
     "data": {
      "text/plain": [
       "0.9045627705655551"
      ]
     },
     "execution_count": 73,
     "metadata": {},
     "output_type": "execute_result"
    }
   ],
   "source": [
    "mean_squared_error(potential_outcome_matrix,X_matrix_completion)"
   ]
  },
  {
   "cell_type": "markdown",
   "id": "a2f33c9a-4e50-438a-8c0c-76de73208d13",
   "metadata": {},
   "source": [
    "# Synthetic Combinations "
   ]
  },
  {
   "cell_type": "code",
   "execution_count": 35,
   "id": "5f7bb89a-9ab2-45f7-ba7f-950414617583",
   "metadata": {
    "tags": []
   },
   "outputs": [],
   "source": [
    "sc = synth_combo()"
   ]
  },
  {
   "cell_type": "markdown",
   "id": "f3b8a07c-16d3-435d-8353-8a058b776629",
   "metadata": {},
   "source": [
    "## Do Horizontal Regression "
   ]
  },
  {
   "cell_type": "code",
   "execution_count": 36,
   "id": "3d3bf062-e151-4e2d-bd4f-272b0214092b",
   "metadata": {
    "tags": []
   },
   "outputs": [
    {
     "name": "stderr",
     "output_type": "stream",
     "text": [
      "100%|██████████████████████████████████████████████████████████████████████████████| 6/6 [00:00<00:00,  9.43it/s]\n"
     ]
    }
   ],
   "source": [
    "donor_unit_indices = [i for i in range(num_donor_units)]\n",
    "horizontal_regression_observation_matrix = sc.horizontal_fit(deepcopy(observation_matrix),donor_unit_indices)"
   ]
  },
  {
   "cell_type": "code",
   "execution_count": 37,
   "id": "da765d6c-cbf1-4ad3-aff4-2658606e0776",
   "metadata": {
    "tags": []
   },
   "outputs": [
    {
     "data": {
      "text/plain": [
       "0.006985592503999044"
      ]
     },
     "execution_count": 37,
     "metadata": {},
     "output_type": "execute_result"
    }
   ],
   "source": [
    "donor_unit_imputed_matrix = horizontal_regression_observation_matrix[donor_unit_indices,:]\n",
    "mean_squared_error(donor_unit_imputed_matrix,potential_outcome_matrix[:num_donor_units,:])"
   ]
  },
  {
   "cell_type": "markdown",
   "id": "7833dc61-e53b-4d49-8622-064e8e3830f1",
   "metadata": {},
   "source": [
    "## Vertical Regression "
   ]
  },
  {
   "cell_type": "code",
   "execution_count": 38,
   "id": "24ca867c-75bf-4a57-943f-aec970753f3b",
   "metadata": {
    "tags": []
   },
   "outputs": [
    {
     "name": "stderr",
     "output_type": "stream",
     "text": [
      "100%|██████████████████████████████████████████████████████████████████████████| 44/44 [00:00<00:00, 5912.96it/s]\n"
     ]
    }
   ],
   "source": [
    "vertical_regression_observation_matrix = sc.vertical_fit(deepcopy(horizontal_regression_observation_matrix),donor_unit_indices,use_cv=False)"
   ]
  },
  {
   "cell_type": "code",
   "execution_count": 39,
   "id": "01683568-298c-4fe6-984a-870b5a8ebb29",
   "metadata": {
    "tags": []
   },
   "outputs": [
    {
     "data": {
      "text/plain": [
       "0.4239909709372751"
      ]
     },
     "execution_count": 41,
     "metadata": {},
     "output_type": "execute_result"
    }
   ],
   "source": [
    "mean_squared_error(vertical_regression_observation_matrix,potential_outcome_matrix)"
   ]
  },
  {
   "cell_type": "code",
   "execution_count": 24,
   "id": "365cbc7b-c58a-480a-bb99-ced88eda493b",
   "metadata": {
    "tags": []
   },
   "outputs": [],
   "source": [
    "cv_error = np.empty((3,3))\n",
    "cv_error[:] = np.nan\n",
    "#cv_error"
   ]
  }
 ],
 "metadata": {
  "kernelspec": {
   "display_name": "Python 3 (ipykernel)",
   "language": "python",
   "name": "python3"
  },
  "language_info": {
   "codemirror_mode": {
    "name": "ipython",
    "version": 3
   },
   "file_extension": ".py",
   "mimetype": "text/x-python",
   "name": "python",
   "nbconvert_exporter": "python",
   "pygments_lexer": "ipython3",
   "version": "3.8.16"
  }
 },
 "nbformat": 4,
 "nbformat_minor": 5
}
